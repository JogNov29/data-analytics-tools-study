{
  "nbformat": 4,
  "nbformat_minor": 0,
  "metadata": {
    "colab": {
      "provenance": [],
      "authorship_tag": "ABX9TyPQv1DGBfdq7vD927QYBzMA"
    },
    "kernelspec": {
      "name": "python3",
      "display_name": "Python 3"
    },
    "language_info": {
      "name": "python"
    }
  },
  "cells": [
    {
      "cell_type": "markdown",
      "source": [
        "# **Introduction to Tableau**\n",
        "\n",
        "Tableau is a widely used business intelligence (BI) and analytics software trusted by companies like Amazon, Experian, and Unilever to explore, visualize, and securely share data in the form of Workbooks and Dashboards. With its user-friendly drag-and-drop functionality it can be used by everyone to quickly clean, analyze, and visualize your team’s data.\n",
        "\n",
        "\n",
        "Tableau is a powerful and leading data visualization tool. It allows you to intuitively click, drag, and drop data elements to explore and interrogate your data. In other words: Tableau makes it easy to build beautiful, interactive visualizations from raw data.\n",
        "\n"
      ],
      "metadata": {
        "id": "px7VpOVYDSUN"
      }
    },
    {
      "cell_type": "markdown",
      "source": [
        "# **Why Use Tableau?**\n",
        "\n",
        "\n",
        "\n",
        "*   Designed to be used by a range of business users and non-technical audiences.\n",
        "*   Provides access to a deep computational ability for advanced data analytics.\n",
        "*   t's flexible because you can easily work with a lot of different data sources.\n",
        "*   It is quite intuitive: visual cues and icons make the interface easier to navigate.\n",
        "*   The drag and drop functionality makes prototyping very fast: you can build dashboards in hours or days instead of weeks.\n",
        "*   You can frame the business question you want to answer, import and clean data, analyze and visualize data, make business decisions, and present insights, all within one tool.\n",
        "\n",
        "\n",
        "\n",
        "\n",
        "\n"
      ],
      "metadata": {
        "id": "AVt5gtgtD052"
      }
    },
    {
      "cell_type": "code",
      "execution_count": null,
      "metadata": {
        "id": "AbCZsEvL_0mM"
      },
      "outputs": [],
      "source": []
    }
  ]
}